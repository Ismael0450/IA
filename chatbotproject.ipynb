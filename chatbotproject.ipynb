{
  "nbformat": 4,
  "nbformat_minor": 0,
  "metadata": {
    "colab": {
      "name": "chatboxproject.ipynb",
      "provenance": [],
      "collapsed_sections": [],
      "toc_visible": true
    },
    "kernelspec": {
      "name": "python3",
      "display_name": "Python 3"
    }
  },
  "cells": [
    {
      "cell_type": "markdown",
      "metadata": {
        "id": "8_3TYqNuTRfx",
        "colab_type": "text"
      },
      "source": [
        "Importations"
      ]
    },
    {
      "cell_type": "code",
      "metadata": {
        "id": "eF04GfD9Sma1",
        "colab_type": "code",
        "colab": {}
      },
      "source": [
        "import nltk\n",
        "import numpy as np\n",
        "import random\n",
        "import string # to process standard python strings\n",
        "import warnings\n",
        "warnings.filterwarnings('ignore')\n"
      ],
      "execution_count": 13,
      "outputs": []
    },
    {
      "cell_type": "code",
      "metadata": {
        "id": "UEOEiK0ppcsJ",
        "colab_type": "code",
        "colab": {
          "base_uri": "https://localhost:8080/",
          "height": 125
        },
        "outputId": "af267de2-beb5-43a9-c4c0-87e430e78022"
      },
      "source": [
        "from google.colab import drive\n",
        "drive.mount('/content/drive')"
      ],
      "execution_count": 14,
      "outputs": [
        {
          "output_type": "stream",
          "text": [
            "Go to this URL in a browser: https://accounts.google.com/o/oauth2/auth?client_id=947318989803-6bn6qk8qdgf4n4g3pfee6491hc0brc4i.apps.googleusercontent.com&redirect_uri=urn%3aietf%3awg%3aoauth%3a2.0%3aoob&response_type=code&scope=email%20https%3a%2f%2fwww.googleapis.com%2fauth%2fdocs.test%20https%3a%2f%2fwww.googleapis.com%2fauth%2fdrive%20https%3a%2f%2fwww.googleapis.com%2fauth%2fdrive.photos.readonly%20https%3a%2f%2fwww.googleapis.com%2fauth%2fpeopleapi.readonly\n",
            "\n",
            "Enter your authorization code:\n",
            "··········\n",
            "Mounted at /content/drive\n"
          ],
          "name": "stdout"
        }
      ]
    },
    {
      "cell_type": "markdown",
      "metadata": {
        "id": "dVqjsxEWUdZ_",
        "colab_type": "text"
      },
      "source": [
        "Lecture de donnees du fichier"
      ]
    },
    {
      "cell_type": "code",
      "metadata": {
        "id": "B4RWJPrzUnEW",
        "colab_type": "code",
        "colab": {
          "base_uri": "https://localhost:8080/",
          "height": 87
        },
        "outputId": "bb4d0eb4-b0a9-4c69-ec16-5987d4e938b1"
      },
      "source": [
        "f=open('/content/drive/My Drive/chatbot.txt','r',errors = 'ignore')\n",
        "raw=f.read()\n",
        "raw=raw.lower()# converts to lowercase\n",
        "nltk.download('punkt') # first-time use only\n",
        "nltk.download('wordnet') # first-time use only\n",
        "sent_tokens = nltk.sent_tokenize(raw)# converts to list of sentences \n",
        "word_tokens = nltk.word_tokenize(raw)# converts to list of words"
      ],
      "execution_count": 15,
      "outputs": [
        {
          "output_type": "stream",
          "text": [
            "[nltk_data] Downloading package punkt to /root/nltk_data...\n",
            "[nltk_data]   Unzipping tokenizers/punkt.zip.\n",
            "[nltk_data] Downloading package wordnet to /root/nltk_data...\n",
            "[nltk_data]   Unzipping corpora/wordnet.zip.\n"
          ],
          "name": "stdout"
        }
      ]
    },
    {
      "cell_type": "markdown",
      "metadata": {
        "id": "CDTidQD2ZQdo",
        "colab_type": "text"
      },
      "source": [
        "sent tokens words tokens"
      ]
    },
    {
      "cell_type": "code",
      "metadata": {
        "id": "nVz_QZ7JZa0v",
        "colab_type": "code",
        "colab": {
          "base_uri": "https://localhost:8080/",
          "height": 34
        },
        "outputId": "43d21ee3-e087-4e48-ba9e-352515885ec5"
      },
      "source": [
        "sent_tokens[:2]\n",
        "['un chatbot (également appelé talkbot, chatterbot, bot, im bot, agent interactif ou entité conversationnelle artificielle) est un programme informatique ou une intelligence artificielle qui mène une conversation via des méthodes auditives ou textuelles. ',\n",
        " '«ces programmes sont souvent conçus pour simuler de manière convaincante comment un humain se comporterait comme un partenaire conversationnel, réussissant ainsi le test de turing.»']\n",
        "word_tokens[:2]\n",
        "['a', 'chatbot', '(', 'also', 'known']"
      ],
      "execution_count": 16,
      "outputs": [
        {
          "output_type": "execute_result",
          "data": {
            "text/plain": [
              "['a', 'chatbot', '(', 'also', 'known']"
            ]
          },
          "metadata": {
            "tags": []
          },
          "execution_count": 16
        }
      ]
    },
    {
      "cell_type": "markdown",
      "metadata": {
        "id": "UIWQ0zWaZjDt",
        "colab_type": "text"
      },
      "source": [
        "Pre-processing the raw text"
      ]
    },
    {
      "cell_type": "code",
      "metadata": {
        "id": "S2WclGy7ZsTx",
        "colab_type": "code",
        "colab": {}
      },
      "source": [
        "lemmer = nltk.stem.WordNetLemmatizer()\n",
        "#WordNet is a semantically-oriented dictionary of English included in NLTK.\n",
        "def LemTokens(tokens):\n",
        "    return [lemmer.lemmatize(token) for token in tokens]\n",
        "remove_punct_dict = dict((ord(punct), None) for punct in string.punctuation)\n",
        "def LemNormalize(text):\n",
        "    return LemTokens(nltk.word_tokenize(text.lower().translate(remove_punct_dict)))"
      ],
      "execution_count": 17,
      "outputs": []
    },
    {
      "cell_type": "markdown",
      "metadata": {
        "id": "eusJx5fJZynz",
        "colab_type": "text"
      },
      "source": [
        "Keyword matching"
      ]
    },
    {
      "cell_type": "code",
      "metadata": {
        "id": "a_EsJnPqZ5Zv",
        "colab_type": "code",
        "colab": {}
      },
      "source": [
        "GREETING_INPUTS = (\"bonjour\", \"salut\", \"quoi de neuf\", \"salam\", \"bienvenu\")\n",
        "GREETING_RESPONSES = [\"Salam aleyk! En quoi puis-je vous aider\"]\n",
        "def greeting(sentence):\n",
        " \n",
        "    for word in sentence.split():\n",
        "        if word.lower() in GREETING_INPUTS:\n",
        "            return random.choice(GREETING_RESPONSES)"
      ],
      "execution_count": 29,
      "outputs": []
    },
    {
      "cell_type": "markdown",
      "metadata": {
        "id": "xkYmJvs1apM6",
        "colab_type": "text"
      },
      "source": [
        "Generating Response"
      ]
    },
    {
      "cell_type": "code",
      "metadata": {
        "id": "5mkoBef1bJIt",
        "colab_type": "code",
        "colab": {}
      },
      "source": [
        "from sklearn.feature_extraction.text import TfidfVectorizer\n"
      ],
      "execution_count": 30,
      "outputs": []
    },
    {
      "cell_type": "markdown",
      "metadata": {
        "id": "46UiUuvFbnsM",
        "colab_type": "text"
      },
      "source": [
        "import cosine"
      ]
    },
    {
      "cell_type": "code",
      "metadata": {
        "id": "uu8cQuD7bOr7",
        "colab_type": "code",
        "colab": {}
      },
      "source": [
        "from sklearn.metrics.pairwise import cosine_similarity"
      ],
      "execution_count": 31,
      "outputs": []
    },
    {
      "cell_type": "markdown",
      "metadata": {
        "id": "Vp24F9f4bt0j",
        "colab_type": "text"
      },
      "source": [
        "Response"
      ]
    },
    {
      "cell_type": "code",
      "metadata": {
        "id": "owkk3ztbbs2X",
        "colab_type": "code",
        "colab": {}
      },
      "source": [
        "def response(user_response):\n",
        "    robo_response=''\n",
        "    sent_tokens.append(user_response)\n",
        "    TfidfVec = TfidfVectorizer(tokenizer=LemNormalize, stop_words='english')\n",
        "    tfidf = TfidfVec.fit_transform(sent_tokens)\n",
        "    vals = cosine_similarity(tfidf[-1], tfidf)\n",
        "    idx=vals.argsort()[0][-2]\n",
        "    flat = vals.flatten()\n",
        "    flat.sort()\n",
        "    req_tfidf = flat[-2]\n",
        "    if(req_tfidf==0):\n",
        "        robo_response=robo_response+\"Desole! je ne vous compremd pas\"\n",
        "        return robo_response\n",
        "    else:\n",
        "        robo_response = robo_response+sent_tokens[idx]\n",
        "        return robo_response"
      ],
      "execution_count": 32,
      "outputs": []
    },
    {
      "cell_type": "markdown",
      "metadata": {
        "id": "3yp5ZXGEcUrx",
        "colab_type": "text"
      },
      "source": [
        "Feeding lines"
      ]
    },
    {
      "cell_type": "code",
      "metadata": {
        "id": "_nisRUhecSlg",
        "colab_type": "code",
        "colab": {
          "base_uri": "https://localhost:8080/",
          "height": 105
        },
        "outputId": "34d8cb24-1ee7-48eb-bbc0-05583597e706"
      },
      "source": [
        "flag=True\n",
        "print(\"ROBO: je me nomme Robo. je vous repondrai sur vos questions concernant le Racisme. si vous voulez quitter, taper bye!\")\n",
        "while(flag==True):\n",
        "    user_response = input()\n",
        "    user_response=user_response.lower()\n",
        "    if(user_response!='bye'):\n",
        "        if(user_response=='merci' or user_response=='je vous remercie' ):\n",
        "            flag=False\n",
        "            print(\"ROBO: Je vous en prie ^^\")\n",
        "        else:\n",
        "            if(greeting(user_response)!=None):\n",
        "                print(\"ROBO: \"+greeting(user_response))\n",
        "            else:\n",
        "                print(\"ROBO: \",end=\"\")\n",
        "                print(response(user_response))\n",
        "                sent_tokens.remove(user_response)\n",
        "    else:\n",
        "        flag=False\n",
        "        print(\"ROBO:  au revoir!..\")"
      ],
      "execution_count": 33,
      "outputs": [
        {
          "output_type": "stream",
          "text": [
            "ROBO: je me nomme Robo. je vous repondrai sur vos questions concernant le Racisme. si vous voulez quitter, taper bye!\n",
            ",erci\n",
            "ROBO: Desole! je ne vous compremd pas\n",
            "merci\n",
            "ROBO: Je vous en prie ^^\n"
          ],
          "name": "stdout"
        }
      ]
    }
  ]
}